{
 "cells": [
  {
   "cell_type": "code",
   "execution_count": 1,
   "metadata": {},
   "outputs": [],
   "source": [
    "from random import randint\n",
    "from copy import deepcopy"
   ]
  },
  {
   "cell_type": "code",
   "execution_count": 2,
   "metadata": {},
   "outputs": [],
   "source": [
    "def bubble_sort(a):\n",
    "    \n",
    "    last_point = len(a) - 1\n",
    "    is_sorted = False\n",
    "    \n",
    "    while not is_sorted:\n",
    "        is_sorted = True\n",
    "        \n",
    "        for i in range(last_point):\n",
    "            if a[i] > a[i + 1]:\n",
    "                is_sorted = False\n",
    "                a[i], a[i + 1] = a[i + 1], a[i]\n",
    "                \n",
    "        last_point -= 1\n",
    "        \n",
    "    return a"
   ]
  },
  {
   "cell_type": "code",
   "execution_count": 3,
   "metadata": {},
   "outputs": [
    {
     "name": "stdout",
     "output_type": "stream",
     "text": [
      "[42, 37, 66, 80, 39, 80, 43, 32, 47, 1, 50, 68, 88, 86, 90]\n",
      "[1, 32, 37, 39, 42, 43, 47, 50, 66, 68, 80, 80, 86, 88, 90]\n"
     ]
    }
   ],
   "source": [
    "arr = [randint(1,100) for _ in range(15)]\n",
    "\n",
    "check_arr = deepcopy(arr)\n",
    "\n",
    "print(arr)\n",
    "print(bubble_sort(arr))"
   ]
  },
  {
   "cell_type": "code",
   "execution_count": 4,
   "metadata": {},
   "outputs": [],
   "source": [
    "assert(arr == sorted(check_arr))"
   ]
  }
 ],
 "metadata": {
  "kernelspec": {
   "display_name": "Python 3",
   "language": "python",
   "name": "python3"
  },
  "language_info": {
   "codemirror_mode": {
    "name": "ipython",
    "version": 3
   },
   "file_extension": ".py",
   "mimetype": "text/x-python",
   "name": "python",
   "nbconvert_exporter": "python",
   "pygments_lexer": "ipython3",
   "version": "3.6.9"
  }
 },
 "nbformat": 4,
 "nbformat_minor": 4
}
