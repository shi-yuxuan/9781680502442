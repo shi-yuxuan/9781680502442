{
 "cells": [
  {
   "cell_type": "code",
   "execution_count": 1,
   "metadata": {},
   "outputs": [],
   "source": [
    "from random import randint\n",
    "from copy import deepcopy"
   ]
  },
  {
   "cell_type": "code",
   "execution_count": 2,
   "metadata": {},
   "outputs": [],
   "source": [
    "def selection_sort(a):\n",
    "    \n",
    "    for i in range(len(a) - 1):\n",
    "        least_idx = i\n",
    "        \n",
    "        for j in range(i, len(a)):\n",
    "            if a[j] < a[least_idx]:\n",
    "                least_idx = j\n",
    "                \n",
    "        a[i], a[least_idx] = a[least_idx], a[i]\n",
    "        \n",
    "    return a"
   ]
  },
  {
   "cell_type": "code",
   "execution_count": 3,
   "metadata": {},
   "outputs": [
    {
     "name": "stdout",
     "output_type": "stream",
     "text": [
      "[56, 26, 79, 25, 89, 66, 54, 51, 71, 60, 95, 67, 12, 43, 42]\n",
      "[12, 25, 26, 42, 43, 51, 54, 56, 60, 66, 67, 71, 79, 89, 95]\n"
     ]
    }
   ],
   "source": [
    "arr = [randint(1,100) for _ in range(15)]\n",
    "\n",
    "check_arr = deepcopy(arr)\n",
    "\n",
    "print(arr)\n",
    "print(selection_sort(arr))"
   ]
  },
  {
   "cell_type": "code",
   "execution_count": 4,
   "metadata": {},
   "outputs": [],
   "source": [
    "assert(arr == sorted(check_arr))"
   ]
  },
  {
   "cell_type": "code",
   "execution_count": null,
   "metadata": {},
   "outputs": [],
   "source": []
  }
 ],
 "metadata": {
  "kernelspec": {
   "display_name": "Python 3",
   "language": "python",
   "name": "python3"
  },
  "language_info": {
   "codemirror_mode": {
    "name": "ipython",
    "version": 3
   },
   "file_extension": ".py",
   "mimetype": "text/x-python",
   "name": "python",
   "nbconvert_exporter": "python",
   "pygments_lexer": "ipython3",
   "version": "3.6.9"
  }
 },
 "nbformat": 4,
 "nbformat_minor": 4
}
