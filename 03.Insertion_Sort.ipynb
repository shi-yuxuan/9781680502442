{
 "cells": [
  {
   "cell_type": "code",
   "execution_count": 1,
   "metadata": {},
   "outputs": [],
   "source": [
    "from random import randint\n",
    "from copy import deepcopy"
   ]
  },
  {
   "cell_type": "code",
   "execution_count": 2,
   "metadata": {},
   "outputs": [],
   "source": [
    "def insertion_sort(a):\n",
    "    \n",
    "    for i in range(1, len(a)):\n",
    "        current_idx = i\n",
    "        temp_value = a[i]\n",
    "        \n",
    "        while current_idx > 0 and a[current_idx - 1] > temp_value:\n",
    "            a[current_idx] = a[current_idx - 1]\n",
    "            current_idx -= 1\n",
    "            \n",
    "        a[current_idx] = temp_value\n",
    "        \n",
    "    return a"
   ]
  },
  {
   "cell_type": "code",
   "execution_count": 3,
   "metadata": {},
   "outputs": [
    {
     "name": "stdout",
     "output_type": "stream",
     "text": [
      "[17, 9, 27, 62, 86, 17, 74, 59, 13, 37, 2, 19, 84, 32, 19]\n",
      "[2, 9, 13, 17, 17, 19, 19, 27, 32, 37, 59, 62, 74, 84, 86]\n"
     ]
    }
   ],
   "source": [
    "arr = [randint(1,100) for _ in range(15)]\n",
    "\n",
    "check_arr = deepcopy(arr)\n",
    "\n",
    "print(arr)\n",
    "print(insertion_sort(arr))"
   ]
  },
  {
   "cell_type": "code",
   "execution_count": 4,
   "metadata": {},
   "outputs": [],
   "source": [
    "assert(arr == sorted(check_arr))"
   ]
  },
  {
   "cell_type": "code",
   "execution_count": null,
   "metadata": {},
   "outputs": [],
   "source": []
  }
 ],
 "metadata": {
  "kernelspec": {
   "display_name": "Python 3",
   "language": "python",
   "name": "python3"
  },
  "language_info": {
   "codemirror_mode": {
    "name": "ipython",
    "version": 3
   },
   "file_extension": ".py",
   "mimetype": "text/x-python",
   "name": "python",
   "nbconvert_exporter": "python",
   "pygments_lexer": "ipython3",
   "version": "3.6.9"
  }
 },
 "nbformat": 4,
 "nbformat_minor": 4
}
