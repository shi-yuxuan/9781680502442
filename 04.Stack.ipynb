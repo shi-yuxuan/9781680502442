{
 "cells": [
  {
   "cell_type": "code",
<<<<<<< HEAD
   "execution_count": 1,
=======
   "execution_count": 13,
>>>>>>> 710aa19feed73d43417681415d2a941d8eaffa96
   "metadata": {},
   "outputs": [],
   "source": [
    "class Linter:\n",
    "    def __init__(self):\n",
    "        self.stack = []\n",
    "        self.opening_brace = ['(', '[', '{']\n",
    "        self.closing_brace = [')', ']', '}']\n",
    "        self.brace_pairs = {')': '(', \n",
    "                            ']': '[', \n",
    "                            '}': '{'}\n",
    "        self.error = None\n",
    "        \n",
    "    def lint(self, text):\n",
    "        for idx, ch in enumerate(text):\n",
    "            if ch in self.opening_brace:\n",
    "                self.stack.append(ch)\n",
    "            elif ch in self.closing_brace:\n",
    "                last_brace = self._most_resent_opening_brace()\n",
<<<<<<< HEAD
    "                if last_brace != self.brace_pairs[ch]:\n",
    "                    self.error = f\"Incorrect closing brace '{ch}' at index '{idx}'\"\n",
    "                    return\n",
=======
    "                print(ch, last_brace, self.brace_pairs[ch])\n",
    "                if last_brace != self.brace_pairs[ch]:\n",
    "                    self.error = f\"Incorrect closing brace '{ch}' at index '{idx}'\"\n",
    "                    break\n",
>>>>>>> 710aa19feed73d43417681415d2a941d8eaffa96
    "        \n",
    "        if len(self.stack) > 0:\n",
    "            self.error = f\"{self._most_resent_opening_brace()} does not have a closing brace\"\n",
    "                \n",
    "    def _most_resent_opening_brace(self):\n",
    "        return self.stack.pop()"
   ]
  },
  {
   "cell_type": "code",
<<<<<<< HEAD
   "execution_count": 2,
   "metadata": {},
   "outputs": [],
   "source": [
    "linter = Linter()\n",
    "\n",
    "linter.lint('(var x = {y: [1, 2, 3]})')\n",
    "assert(linter.error == None)\n",
    "\n",
    "linter.lint('(var x = {y: [1, 2, 3])}')\n",
    "assert(linter.error == \"Incorrect closing brace ')' at index '22'\")\n",
    "\n",
    "linter.lint('(var x = {y: [1, 2, 3]}')\n",
    "assert(linter.error == '( does not have a closing brace')"
=======
   "execution_count": 14,
   "metadata": {},
   "outputs": [
    {
     "name": "stdout",
     "output_type": "stream",
     "text": [
      "] [ [\n",
      ") { (\n"
     ]
    },
    {
     "ename": "AssertionError",
     "evalue": "",
     "output_type": "error",
     "traceback": [
      "\u001b[0;31m---------------------------------------------------------------------------\u001b[0m",
      "\u001b[0;31mAssertionError\u001b[0m                            Traceback (most recent call last)",
      "\u001b[0;32m<ipython-input-14-c6423ff1b831>\u001b[0m in \u001b[0;36m<module>\u001b[0;34m\u001b[0m\n\u001b[1;32m      5\u001b[0m \u001b[0;34m\u001b[0m\u001b[0m\n\u001b[1;32m      6\u001b[0m \u001b[0mlinter\u001b[0m\u001b[0;34m.\u001b[0m\u001b[0mlint\u001b[0m\u001b[0;34m(\u001b[0m\u001b[0;34m'(var x = {y: [1, 2, 3])}'\u001b[0m\u001b[0;34m)\u001b[0m\u001b[0;34m\u001b[0m\u001b[0;34m\u001b[0m\u001b[0m\n\u001b[0;32m----> 7\u001b[0;31m \u001b[0;32massert\u001b[0m\u001b[0;34m(\u001b[0m\u001b[0mlinter\u001b[0m\u001b[0;34m.\u001b[0m\u001b[0merror\u001b[0m \u001b[0;34m==\u001b[0m \u001b[0;34m\"Incorrect closing brace '}' at index '23'\"\u001b[0m\u001b[0;34m)\u001b[0m\u001b[0;34m\u001b[0m\u001b[0;34m\u001b[0m\u001b[0m\n\u001b[0m\u001b[1;32m      8\u001b[0m \u001b[0;34m\u001b[0m\u001b[0m\n\u001b[1;32m      9\u001b[0m \u001b[0;31m#linter.lint('(var x = {y: [1, 2, 3]}')\u001b[0m\u001b[0;34m\u001b[0m\u001b[0;34m\u001b[0m\u001b[0;34m\u001b[0m\u001b[0m\n",
      "\u001b[0;31mAssertionError\u001b[0m: "
     ]
    }
   ],
   "source": [
    "linter = Linter()\n",
    "\n",
    "#linter.lint('(var x = {y: [1, 2, 3]})')\n",
    "assert(linter.error == None)\n",
    "\n",
    "linter.lint('(var x = {y: [1, 2, 3])}')\n",
    "assert(linter.error == \"Incorrect closing brace '}' at index '23'\")\n",
    "\n",
    "#linter.lint('(var x = {y: [1, 2, 3]}')\n",
    "#assert(linter.error == '( does not have a closing brace')"
>>>>>>> 710aa19feed73d43417681415d2a941d8eaffa96
   ]
  },
  {
   "cell_type": "code",
   "execution_count": null,
   "metadata": {},
   "outputs": [],
   "source": []
  }
 ],
 "metadata": {
  "kernelspec": {
   "display_name": "Python 3",
   "language": "python",
   "name": "python3"
  },
  "language_info": {
   "codemirror_mode": {
    "name": "ipython",
    "version": 3
   },
   "file_extension": ".py",
   "mimetype": "text/x-python",
   "name": "python",
   "nbconvert_exporter": "python",
   "pygments_lexer": "ipython3",
   "version": "3.6.9"
  }
 },
 "nbformat": 4,
 "nbformat_minor": 4
}
