{
 "cells": [
  {
   "cell_type": "code",
   "execution_count": 1,
   "metadata": {},
   "outputs": [],
   "source": [
    "class Linter:\n",
    "    def __init__(self):\n",
    "        self.stack = []\n",
    "        self.opening_brace = ['(', '[', '{']\n",
    "        self.closing_brace = [')', ']', '}']\n",
    "        self.brace_pairs = {')': '(', \n",
    "                            ']': '[', \n",
    "                            '}': '{'}\n",
    "        self.error = None\n",
    "        \n",
    "    def lint(self, text):\n",
    "        for idx, ch in enumerate(text):\n",
    "            if ch in self.opening_brace:\n",
    "                self.stack.append(ch)\n",
    "            elif ch in self.closing_brace:\n",
    "                last_brace = self._most_resent_opening_brace()\n",
    "                if last_brace != self.brace_pairs[ch]:\n",
    "                    self.error = f\"Incorrect closing brace '{ch}' at index '{idx}'\"\n",
    "                    return\n",
    "        \n",
    "        if len(self.stack) > 0:\n",
    "            self.error = f\"{self._most_resent_opening_brace()} does not have a closing brace\"\n",
    "                \n",
    "    def _most_resent_opening_brace(self):\n",
    "        return self.stack.pop()"
   ]
  },
  {
   "cell_type": "code",
   "execution_count": 2,
   "metadata": {},
   "outputs": [],
   "source": [
    "linter = Linter()\n",
    "\n",
    "linter.lint('(var x = {y: [1, 2, 3]})')\n",
    "assert(linter.error == None)\n",
    "\n",
    "linter.lint('(var x = {y: [1, 2, 3])}')\n",
    "assert(linter.error == \"Incorrect closing brace ')' at index '22'\")\n",
    "\n",
    "linter.lint('(var x = {y: [1, 2, 3]}')\n",
    "assert(linter.error == '( does not have a closing brace')"
   ]
  },
  {
   "cell_type": "code",
   "execution_count": null,
   "metadata": {},
   "outputs": [],
   "source": []
  }
 ],
 "metadata": {
  "kernelspec": {
   "display_name": "Python 3",
   "language": "python",
   "name": "python3"
  },
  "language_info": {
   "codemirror_mode": {
    "name": "ipython",
    "version": 3
   },
   "file_extension": ".py",
   "mimetype": "text/x-python",
   "name": "python",
   "nbconvert_exporter": "python",
   "pygments_lexer": "ipython3",
   "version": "3.6.9"
  }
 },
 "nbformat": 4,
 "nbformat_minor": 4
}
