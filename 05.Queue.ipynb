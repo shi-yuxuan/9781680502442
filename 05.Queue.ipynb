{
 "cells": [
  {
   "cell_type": "code",
   "execution_count": 1,
   "metadata": {},
   "outputs": [],
   "source": [
    "class PrintManager:\n",
    "    def __init__(self):\n",
    "        self.queue = []\n",
    "        \n",
    "    \n",
    "    def queue_print_job(self, document):\n",
    "        self.queue.append(document)\n",
    "        \n",
    "        \n",
    "    def run(self):\n",
    "        while len(self.queue) > 0:\n",
    "            document = self.queue.pop(0)\n",
    "            print(document)"
   ]
  },
  {
   "cell_type": "code",
   "execution_count": 2,
   "metadata": {},
   "outputs": [
    {
     "name": "stdout",
     "output_type": "stream",
     "text": [
      "First document\n",
      "Second document\n",
      "Third document\n"
     ]
    }
   ],
   "source": [
    "print_manager = PrintManager()\n",
    "print_manager.queue_print_job('First document')\n",
    "print_manager.queue_print_job('Second document')\n",
    "print_manager.queue_print_job('Third document')\n",
    "\n",
    "print_manager.run() "
   ]
  },
  {
   "cell_type": "code",
   "execution_count": null,
   "metadata": {},
   "outputs": [],
   "source": []
  }
 ],
 "metadata": {
  "kernelspec": {
   "display_name": "Python 3",
   "language": "python",
   "name": "python3"
  },
  "language_info": {
   "codemirror_mode": {
    "name": "ipython",
    "version": 3
   },
   "file_extension": ".py",
   "mimetype": "text/x-python",
   "name": "python",
   "nbconvert_exporter": "python",
   "pygments_lexer": "ipython3",
   "version": "3.6.9"
  }
 },
 "nbformat": 4,
 "nbformat_minor": 4
}
